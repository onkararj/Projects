{
  "nbformat": 4,
  "nbformat_minor": 0,
  "metadata": {
    "colab": {
      "provenance": [],
      "authorship_tag": "ABX9TyN8ihVFExKJHYb6GSHDTRN5",
      "include_colab_link": true
    },
    "kernelspec": {
      "name": "python3",
      "display_name": "Python 3"
    },
    "language_info": {
      "name": "python"
    }
  },
  "cells": [
    {
      "cell_type": "markdown",
      "metadata": {
        "id": "view-in-github",
        "colab_type": "text"
      },
      "source": [
        "<a href=\"https://colab.research.google.com/github/onkararj/Projects/blob/main/titanic_project.ipynb\" target=\"_parent\"><img src=\"https://colab.research.google.com/assets/colab-badge.svg\" alt=\"Open In Colab\"/></a>"
      ]
    },
    {
      "cell_type": "code",
      "metadata": {
        "id": "i3PzYX2KP2E9"
      },
      "source": [
        "import numpy as np\n",
        "import pandas as pd\n",
        "from pandas import Series, DataFrame\n",
        "import matplotlib.pyplot as plt\n",
        "import seaborn as sns\n",
        "\n",
        "train = pd.read_csv(\"/content/train.csv\")\n",
        "test = pd.read_csv(\"/content/train.csv\")"
      ],
      "execution_count": null,
      "outputs": []
    },
    {
      "cell_type": "code",
      "metadata": {
        "colab": {
          "base_uri": "https://localhost:8080/"
        },
        "id": "2Crt6lWpar4w",
        "outputId": "780a063d-d957-4b26-e8f4-a62f31a3b54e"
      },
      "source": [
        "train.info()"
      ],
      "execution_count": null,
      "outputs": [
        {
          "output_type": "stream",
          "name": "stdout",
          "text": [
            "<class 'pandas.core.frame.DataFrame'>\n",
            "RangeIndex: 891 entries, 0 to 890\n",
            "Data columns (total 12 columns):\n",
            " #   Column       Non-Null Count  Dtype  \n",
            "---  ------       --------------  -----  \n",
            " 0   PassengerId  891 non-null    int64  \n",
            " 1   Survived     891 non-null    int64  \n",
            " 2   Pclass       891 non-null    int64  \n",
            " 3   Name         891 non-null    object \n",
            " 4   Sex          891 non-null    object \n",
            " 5   Age          714 non-null    float64\n",
            " 6   SibSp        891 non-null    int64  \n",
            " 7   Parch        891 non-null    int64  \n",
            " 8   Ticket       891 non-null    object \n",
            " 9   Fare         891 non-null    float64\n",
            " 10  Cabin        204 non-null    object \n",
            " 11  Embarked     889 non-null    object \n",
            "dtypes: float64(2), int64(5), object(5)\n",
            "memory usage: 83.7+ KB\n"
          ]
        }
      ]
    },
    {
      "cell_type": "code",
      "metadata": {
        "colab": {
          "base_uri": "https://localhost:8080/",
          "height": 204
        },
        "id": "QTlfxj68a3MP",
        "outputId": "e0cae225-f29b-42a8-87f1-74b0128637fe"
      },
      "source": [
        "train.head()"
      ],
      "execution_count": null,
      "outputs": [
        {
          "output_type": "execute_result",
          "data": {
            "text/html": [
              "<div>\n",
              "<style scoped>\n",
              "    .dataframe tbody tr th:only-of-type {\n",
              "        vertical-align: middle;\n",
              "    }\n",
              "\n",
              "    .dataframe tbody tr th {\n",
              "        vertical-align: top;\n",
              "    }\n",
              "\n",
              "    .dataframe thead th {\n",
              "        text-align: right;\n",
              "    }\n",
              "</style>\n",
              "<table border=\"1\" class=\"dataframe\">\n",
              "  <thead>\n",
              "    <tr style=\"text-align: right;\">\n",
              "      <th></th>\n",
              "      <th>PassengerId</th>\n",
              "      <th>Survived</th>\n",
              "      <th>Pclass</th>\n",
              "      <th>Name</th>\n",
              "      <th>Sex</th>\n",
              "      <th>Age</th>\n",
              "      <th>SibSp</th>\n",
              "      <th>Parch</th>\n",
              "      <th>Ticket</th>\n",
              "      <th>Fare</th>\n",
              "      <th>Cabin</th>\n",
              "      <th>Embarked</th>\n",
              "    </tr>\n",
              "  </thead>\n",
              "  <tbody>\n",
              "    <tr>\n",
              "      <th>0</th>\n",
              "      <td>1</td>\n",
              "      <td>0</td>\n",
              "      <td>3</td>\n",
              "      <td>Braund, Mr. Owen Harris</td>\n",
              "      <td>male</td>\n",
              "      <td>22.0</td>\n",
              "      <td>1</td>\n",
              "      <td>0</td>\n",
              "      <td>A/5 21171</td>\n",
              "      <td>7.2500</td>\n",
              "      <td>NaN</td>\n",
              "      <td>S</td>\n",
              "    </tr>\n",
              "    <tr>\n",
              "      <th>1</th>\n",
              "      <td>2</td>\n",
              "      <td>1</td>\n",
              "      <td>1</td>\n",
              "      <td>Cumings, Mrs. John Bradley (Florence Briggs Th...</td>\n",
              "      <td>female</td>\n",
              "      <td>38.0</td>\n",
              "      <td>1</td>\n",
              "      <td>0</td>\n",
              "      <td>PC 17599</td>\n",
              "      <td>71.2833</td>\n",
              "      <td>C85</td>\n",
              "      <td>C</td>\n",
              "    </tr>\n",
              "    <tr>\n",
              "      <th>2</th>\n",
              "      <td>3</td>\n",
              "      <td>1</td>\n",
              "      <td>3</td>\n",
              "      <td>Heikkinen, Miss. Laina</td>\n",
              "      <td>female</td>\n",
              "      <td>26.0</td>\n",
              "      <td>0</td>\n",
              "      <td>0</td>\n",
              "      <td>STON/O2. 3101282</td>\n",
              "      <td>7.9250</td>\n",
              "      <td>NaN</td>\n",
              "      <td>S</td>\n",
              "    </tr>\n",
              "    <tr>\n",
              "      <th>3</th>\n",
              "      <td>4</td>\n",
              "      <td>1</td>\n",
              "      <td>1</td>\n",
              "      <td>Futrelle, Mrs. Jacques Heath (Lily May Peel)</td>\n",
              "      <td>female</td>\n",
              "      <td>35.0</td>\n",
              "      <td>1</td>\n",
              "      <td>0</td>\n",
              "      <td>113803</td>\n",
              "      <td>53.1000</td>\n",
              "      <td>C123</td>\n",
              "      <td>S</td>\n",
              "    </tr>\n",
              "    <tr>\n",
              "      <th>4</th>\n",
              "      <td>5</td>\n",
              "      <td>0</td>\n",
              "      <td>3</td>\n",
              "      <td>Allen, Mr. William Henry</td>\n",
              "      <td>male</td>\n",
              "      <td>35.0</td>\n",
              "      <td>0</td>\n",
              "      <td>0</td>\n",
              "      <td>373450</td>\n",
              "      <td>8.0500</td>\n",
              "      <td>NaN</td>\n",
              "      <td>S</td>\n",
              "    </tr>\n",
              "  </tbody>\n",
              "</table>\n",
              "</div>"
            ],
            "text/plain": [
              "   PassengerId  Survived  Pclass  ...     Fare Cabin  Embarked\n",
              "0            1         0       3  ...   7.2500   NaN         S\n",
              "1            2         1       1  ...  71.2833   C85         C\n",
              "2            3         1       3  ...   7.9250   NaN         S\n",
              "3            4         1       1  ...  53.1000  C123         S\n",
              "4            5         0       3  ...   8.0500   NaN         S\n",
              "\n",
              "[5 rows x 12 columns]"
            ]
          },
          "metadata": {},
          "execution_count": 4
        }
      ]
    },
    {
      "cell_type": "code",
      "metadata": {
        "colab": {
          "base_uri": "https://localhost:8080/",
          "height": 297
        },
        "id": "iqxwcVMQa9En",
        "outputId": "d02d28c3-b096-413b-ee4d-88b81658f4c6"
      },
      "source": [
        "train.describe()"
      ],
      "execution_count": null,
      "outputs": [
        {
          "output_type": "execute_result",
          "data": {
            "text/html": [
              "<div>\n",
              "<style scoped>\n",
              "    .dataframe tbody tr th:only-of-type {\n",
              "        vertical-align: middle;\n",
              "    }\n",
              "\n",
              "    .dataframe tbody tr th {\n",
              "        vertical-align: top;\n",
              "    }\n",
              "\n",
              "    .dataframe thead th {\n",
              "        text-align: right;\n",
              "    }\n",
              "</style>\n",
              "<table border=\"1\" class=\"dataframe\">\n",
              "  <thead>\n",
              "    <tr style=\"text-align: right;\">\n",
              "      <th></th>\n",
              "      <th>PassengerId</th>\n",
              "      <th>Survived</th>\n",
              "      <th>Pclass</th>\n",
              "      <th>Age</th>\n",
              "      <th>SibSp</th>\n",
              "      <th>Parch</th>\n",
              "      <th>Fare</th>\n",
              "    </tr>\n",
              "  </thead>\n",
              "  <tbody>\n",
              "    <tr>\n",
              "      <th>count</th>\n",
              "      <td>891.000000</td>\n",
              "      <td>891.000000</td>\n",
              "      <td>891.000000</td>\n",
              "      <td>714.000000</td>\n",
              "      <td>891.000000</td>\n",
              "      <td>891.000000</td>\n",
              "      <td>891.000000</td>\n",
              "    </tr>\n",
              "    <tr>\n",
              "      <th>mean</th>\n",
              "      <td>446.000000</td>\n",
              "      <td>0.383838</td>\n",
              "      <td>2.308642</td>\n",
              "      <td>29.699118</td>\n",
              "      <td>0.523008</td>\n",
              "      <td>0.381594</td>\n",
              "      <td>32.204208</td>\n",
              "    </tr>\n",
              "    <tr>\n",
              "      <th>std</th>\n",
              "      <td>257.353842</td>\n",
              "      <td>0.486592</td>\n",
              "      <td>0.836071</td>\n",
              "      <td>14.526497</td>\n",
              "      <td>1.102743</td>\n",
              "      <td>0.806057</td>\n",
              "      <td>49.693429</td>\n",
              "    </tr>\n",
              "    <tr>\n",
              "      <th>min</th>\n",
              "      <td>1.000000</td>\n",
              "      <td>0.000000</td>\n",
              "      <td>1.000000</td>\n",
              "      <td>0.420000</td>\n",
              "      <td>0.000000</td>\n",
              "      <td>0.000000</td>\n",
              "      <td>0.000000</td>\n",
              "    </tr>\n",
              "    <tr>\n",
              "      <th>25%</th>\n",
              "      <td>223.500000</td>\n",
              "      <td>0.000000</td>\n",
              "      <td>2.000000</td>\n",
              "      <td>20.125000</td>\n",
              "      <td>0.000000</td>\n",
              "      <td>0.000000</td>\n",
              "      <td>7.910400</td>\n",
              "    </tr>\n",
              "    <tr>\n",
              "      <th>50%</th>\n",
              "      <td>446.000000</td>\n",
              "      <td>0.000000</td>\n",
              "      <td>3.000000</td>\n",
              "      <td>28.000000</td>\n",
              "      <td>0.000000</td>\n",
              "      <td>0.000000</td>\n",
              "      <td>14.454200</td>\n",
              "    </tr>\n",
              "    <tr>\n",
              "      <th>75%</th>\n",
              "      <td>668.500000</td>\n",
              "      <td>1.000000</td>\n",
              "      <td>3.000000</td>\n",
              "      <td>38.000000</td>\n",
              "      <td>1.000000</td>\n",
              "      <td>0.000000</td>\n",
              "      <td>31.000000</td>\n",
              "    </tr>\n",
              "    <tr>\n",
              "      <th>max</th>\n",
              "      <td>891.000000</td>\n",
              "      <td>1.000000</td>\n",
              "      <td>3.000000</td>\n",
              "      <td>80.000000</td>\n",
              "      <td>8.000000</td>\n",
              "      <td>6.000000</td>\n",
              "      <td>512.329200</td>\n",
              "    </tr>\n",
              "  </tbody>\n",
              "</table>\n",
              "</div>"
            ],
            "text/plain": [
              "       PassengerId    Survived      Pclass  ...       SibSp       Parch        Fare\n",
              "count   891.000000  891.000000  891.000000  ...  891.000000  891.000000  891.000000\n",
              "mean    446.000000    0.383838    2.308642  ...    0.523008    0.381594   32.204208\n",
              "std     257.353842    0.486592    0.836071  ...    1.102743    0.806057   49.693429\n",
              "min       1.000000    0.000000    1.000000  ...    0.000000    0.000000    0.000000\n",
              "25%     223.500000    0.000000    2.000000  ...    0.000000    0.000000    7.910400\n",
              "50%     446.000000    0.000000    3.000000  ...    0.000000    0.000000   14.454200\n",
              "75%     668.500000    1.000000    3.000000  ...    1.000000    0.000000   31.000000\n",
              "max     891.000000    1.000000    3.000000  ...    8.000000    6.000000  512.329200\n",
              "\n",
              "[8 rows x 7 columns]"
            ]
          },
          "metadata": {},
          "execution_count": 6
        }
      ]
    },
    {
      "cell_type": "code",
      "metadata": {
        "colab": {
          "base_uri": "https://localhost:8080/",
          "height": 350
        },
        "id": "ZyN9fL6ZbxmW",
        "outputId": "8117c222-dada-42a2-df6f-95f11323b972"
      },
      "source": [
        "sns.countplot (\"Survived\", data = train)"
      ],
      "execution_count": null,
      "outputs": [
        {
          "output_type": "stream",
          "name": "stderr",
          "text": [
            "/usr/local/lib/python3.7/dist-packages/seaborn/_decorators.py:43: FutureWarning: Pass the following variable as a keyword arg: x. From version 0.12, the only valid positional argument will be `data`, and passing other arguments without an explicit keyword will result in an error or misinterpretation.\n",
            "  FutureWarning\n"
          ]
        },
        {
          "output_type": "execute_result",
          "data": {
            "text/plain": [
              "<matplotlib.axes._subplots.AxesSubplot at 0x7f502742d990>"
            ]
          },
          "metadata": {},
          "execution_count": 8
        },
        {
          "output_type": "display_data",
          "data": {
            "image/png": "[encoded data removed]",
            "text/plain": [
              "<Figure size 432x288 with 1 Axes>"
            ]
          },
          "metadata": {
            "needs_background": "light"
          }
        }
      ]
    },
    {
      "cell_type": "code",
      "metadata": {
        "colab": {
          "base_uri": "https://localhost:8080/",
          "height": 577
        },
        "id": "MxssmDnBcs-O",
        "outputId": "d51266e9-4fa7-4aaf-84a4-f23597acb8e0"
      },
      "source": [
        "fig, ax = plt.subplots(1, 2, figsize = (18, 8))\n",
        "train[\"Sex\"].value_counts().plot.bar(color = \"skyblue\", ax = ax[0])\n",
        "ax[0].set_title(\"Number Of Passengers By Sex\")\n",
        "ax[0].set_ylabel(\"Population\")\n",
        "sns.countplot(\"Sex\", hue = \"Survived\", data = train, ax = ax[1])\n",
        "ax[1].set_title(\"Sex: Survived vs Dead\")\n",
        "plt.show()"
      ],
      "execution_count": null,
      "outputs": [
        {
          "output_type": "stream",
          "name": "stderr",
          "text": [
            "/usr/local/lib/python3.7/dist-packages/seaborn/_decorators.py:43: FutureWarning: Pass the following variable as a keyword arg: x. From version 0.12, the only valid positional argument will be `data`, and passing other arguments without an explicit keyword will result in an error or misinterpretation.\n",
            "  FutureWarning\n"
          ]
        },
        {
          "output_type": "display_data",
          "data": {
            "image/png": "[encoded data removed]",
            "text/plain": [
              "<Figure size 1296x576 with 2 Axes>"
            ]
          },
          "metadata": {
            "needs_background": "light"
          }
        }
      ]
    },
    {
      "cell_type": "code",
      "metadata": {
        "colab": {
          "base_uri": "https://localhost:8080/",
          "height": 457
        },
        "id": "jYey83gZc5kF",
        "outputId": "03a941e0-d450-4747-de83-7c2244665291"
      },
      "source": [
        "sns.factorplot(\"Pclass\", \"Survived\", hue = \"Sex\", data = train)\n",
        "plt.show()\n"
      ],
      "execution_count": null,
      "outputs": [
        {
          "output_type": "stream",
          "name": "stderr",
          "text": [
            "/usr/local/lib/python3.7/dist-packages/seaborn/categorical.py:3717: UserWarning: The `factorplot` function has been renamed to `catplot`. The original name will be removed in a future release. Please update your code. Note that the default `kind` in `factorplot` (`'point'`) has changed `'strip'` in `catplot`.\n",
            "  warnings.warn(msg)\n",
            "/usr/local/lib/python3.7/dist-packages/seaborn/_decorators.py:43: FutureWarning: Pass the following variables as keyword args: x, y. From version 0.12, the only valid positional argument will be `data`, and passing other arguments without an explicit keyword will result in an error or misinterpretation.\n",
            "  FutureWarning\n"
          ]
        },
        {
          "output_type": "display_data",
          "data": {
            "image/png": "[encoded data removed]",
            "text/plain": [
              "<Figure size 430.5x360 with 1 Axes>"
            ]
          },
          "metadata": {
            "needs_background": "light"
          }
        }
      ]
    },
    {
      "cell_type": "code",
      "metadata": {
        "colab": {
          "base_uri": "https://localhost:8080/",
          "height": 166
        },
        "id": "GfM4Lkybc8i9",
        "outputId": "89814336-3d09-4b1e-af52-807e92af9e24"
      },
      "source": [
        "pd.crosstab([train[\"Sex\"], train[\"Survived\"]], train[\"Pclass\"], \n",
        "            margins = True).style.background_gradient(cmap = \"summer_r\")"
      ],
      "execution_count": null,
      "outputs": [
        {
          "output_type": "execute_result",
          "data": {
            "text/html": [
              "<style  type=\"text/css\" >\n",
              "#T_96478594_1e10_11ec_a683_0242ac1c0002row0_col0,#T_96478594_1e10_11ec_a683_0242ac1c0002row0_col1,#T_96478594_1e10_11ec_a683_0242ac1c0002row0_col3,#T_96478594_1e10_11ec_a683_0242ac1c0002row3_col2{\n",
              "            background-color:  #ffff66;\n",
              "            color:  #000000;\n",
              "        }#T_96478594_1e10_11ec_a683_0242ac1c0002row0_col2,#T_96478594_1e10_11ec_a683_0242ac1c0002row1_col2{\n",
              "            background-color:  #f1f866;\n",
              "            color:  #000000;\n",
              "        }#T_96478594_1e10_11ec_a683_0242ac1c0002row1_col0{\n",
              "            background-color:  #96cb66;\n",
              "            color:  #000000;\n",
              "        }#T_96478594_1e10_11ec_a683_0242ac1c0002row1_col1{\n",
              "            background-color:  #a3d166;\n",
              "            color:  #000000;\n",
              "        }#T_96478594_1e10_11ec_a683_0242ac1c0002row1_col3{\n",
              "            background-color:  #cfe766;\n",
              "            color:  #000000;\n",
              "        }#T_96478594_1e10_11ec_a683_0242ac1c0002row2_col0{\n",
              "            background-color:  #a7d366;\n",
              "            color:  #000000;\n",
              "        }#T_96478594_1e10_11ec_a683_0242ac1c0002row2_col1,#T_96478594_1e10_11ec_a683_0242ac1c0002row2_col3{\n",
              "            background-color:  #85c266;\n",
              "            color:  #000000;\n",
              "        }#T_96478594_1e10_11ec_a683_0242ac1c0002row2_col2{\n",
              "            background-color:  #6eb666;\n",
              "            color:  #000000;\n",
              "        }#T_96478594_1e10_11ec_a683_0242ac1c0002row3_col0{\n",
              "            background-color:  #cde666;\n",
              "            color:  #000000;\n",
              "        }#T_96478594_1e10_11ec_a683_0242ac1c0002row3_col1{\n",
              "            background-color:  #f0f866;\n",
              "            color:  #000000;\n",
              "        }#T_96478594_1e10_11ec_a683_0242ac1c0002row3_col3{\n",
              "            background-color:  #f7fb66;\n",
              "            color:  #000000;\n",
              "        }#T_96478594_1e10_11ec_a683_0242ac1c0002row4_col0,#T_96478594_1e10_11ec_a683_0242ac1c0002row4_col1,#T_96478594_1e10_11ec_a683_0242ac1c0002row4_col2,#T_96478594_1e10_11ec_a683_0242ac1c0002row4_col3{\n",
              "            background-color:  #008066;\n",
              "            color:  #f1f1f1;\n",
              "        }</style><table id=\"T_96478594_1e10_11ec_a683_0242ac1c0002\" ><thead>    <tr>        <th class=\"blank\" ></th>        <th class=\"index_name level0\" >Pclass</th>        <th class=\"col_heading level0 col0\" >1</th>        <th class=\"col_heading level0 col1\" >2</th>        <th class=\"col_heading level0 col2\" >3</th>        <th class=\"col_heading level0 col3\" >All</th>    </tr>    <tr>        <th class=\"index_name level0\" >Sex</th>        <th class=\"index_name level1\" >Survived</th>        <th class=\"blank\" ></th>        <th class=\"blank\" ></th>        <th class=\"blank\" ></th>        <th class=\"blank\" ></th>    </tr></thead><tbody>\n",
              "                <tr>\n",
              "                        <th id=\"T_96478594_1e10_11ec_a683_0242ac1c0002level0_row0\" class=\"row_heading level0 row0\" rowspan=2>female</th>\n",
              "                        <th id=\"T_96478594_1e10_11ec_a683_0242ac1c0002level1_row0\" class=\"row_heading level1 row0\" >0</th>\n",
              "                        <td id=\"T_96478594_1e10_11ec_a683_0242ac1c0002row0_col0\" class=\"data row0 col0\" >3</td>\n",
              "                        <td id=\"T_96478594_1e10_11ec_a683_0242ac1c0002row0_col1\" class=\"data row0 col1\" >6</td>\n",
              "                        <td id=\"T_96478594_1e10_11ec_a683_0242ac1c0002row0_col2\" class=\"data row0 col2\" >72</td>\n",
              "                        <td id=\"T_96478594_1e10_11ec_a683_0242ac1c0002row0_col3\" class=\"data row0 col3\" >81</td>\n",
              "            </tr>\n",
              "            <tr>\n",
              "                                <th id=\"T_96478594_1e10_11ec_a683_0242ac1c0002level1_row1\" class=\"row_heading level1 row1\" >1</th>\n",
              "                        <td id=\"T_96478594_1e10_11ec_a683_0242ac1c0002row1_col0\" class=\"data row1 col0\" >91</td>\n",
              "                        <td id=\"T_96478594_1e10_11ec_a683_0242ac1c0002row1_col1\" class=\"data row1 col1\" >70</td>\n",
              "                        <td id=\"T_96478594_1e10_11ec_a683_0242ac1c0002row1_col2\" class=\"data row1 col2\" >72</td>\n",
              "                        <td id=\"T_96478594_1e10_11ec_a683_0242ac1c0002row1_col3\" class=\"data row1 col3\" >233</td>\n",
              "            </tr>\n",
              "            <tr>\n",
              "                        <th id=\"T_96478594_1e10_11ec_a683_0242ac1c0002level0_row2\" class=\"row_heading level0 row2\" rowspan=2>male</th>\n",
              "                        <th id=\"T_96478594_1e10_11ec_a683_0242ac1c0002level1_row2\" class=\"row_heading level1 row2\" >0</th>\n",
              "                        <td id=\"T_96478594_1e10_11ec_a683_0242ac1c0002row2_col0\" class=\"data row2 col0\" >77</td>\n",
              "                        <td id=\"T_96478594_1e10_11ec_a683_0242ac1c0002row2_col1\" class=\"data row2 col1\" >91</td>\n",
              "                        <td id=\"T_96478594_1e10_11ec_a683_0242ac1c0002row2_col2\" class=\"data row2 col2\" >300</td>\n",
              "                        <td id=\"T_96478594_1e10_11ec_a683_0242ac1c0002row2_col3\" class=\"data row2 col3\" >468</td>\n",
              "            </tr>\n",
              "            <tr>\n",
              "                                <th id=\"T_96478594_1e10_11ec_a683_0242ac1c0002level1_row3\" class=\"row_heading level1 row3\" >1</th>\n",
              "                        <td id=\"T_96478594_1e10_11ec_a683_0242ac1c0002row3_col0\" class=\"data row3 col0\" >45</td>\n",
              "                        <td id=\"T_96478594_1e10_11ec_a683_0242ac1c0002row3_col1\" class=\"data row3 col1\" >17</td>\n",
              "                        <td id=\"T_96478594_1e10_11ec_a683_0242ac1c0002row3_col2\" class=\"data row3 col2\" >47</td>\n",
              "                        <td id=\"T_96478594_1e10_11ec_a683_0242ac1c0002row3_col3\" class=\"data row3 col3\" >109</td>\n",
              "            </tr>\n",
              "            <tr>\n",
              "                        <th id=\"T_96478594_1e10_11ec_a683_0242ac1c0002level0_row4\" class=\"row_heading level0 row4\" >All</th>\n",
              "                        <th id=\"T_96478594_1e10_11ec_a683_0242ac1c0002level1_row4\" class=\"row_heading level1 row4\" ></th>\n",
              "                        <td id=\"T_96478594_1e10_11ec_a683_0242ac1c0002row4_col0\" class=\"data row4 col0\" >216</td>\n",
              "                        <td id=\"T_96478594_1e10_11ec_a683_0242ac1c0002row4_col1\" class=\"data row4 col1\" >184</td>\n",
              "                        <td id=\"T_96478594_1e10_11ec_a683_0242ac1c0002row4_col2\" class=\"data row4 col2\" >491</td>\n",
              "                        <td id=\"T_96478594_1e10_11ec_a683_0242ac1c0002row4_col3\" class=\"data row4 col3\" >891</td>\n",
              "            </tr>\n",
              "    </tbody></table>"
            ],
            "text/plain": [
              "<pandas.io.formats.style.Styler at 0x7f50280f8d90>"
            ]
          },
          "metadata": {},
          "execution_count": 11
        }
      ]
    },
    {
      "cell_type": "code",
      "metadata": {
        "colab": {
          "base_uri": "https://localhost:8080/",
          "height": 567
        },
        "id": "D4MDADn5c_wV",
        "outputId": "7d011937-7389-40b8-f7fe-a4c4bd7e90f5"
      },
      "source": [
        "fig, ax = plt.subplots(1, 2, figsize = (18, 8))\n",
        "train[\"Pclass\"].value_counts().plot.bar(color = \"skyblue\", ax = ax[0])\n",
        "ax[0].set_title(\"Number Of Passengers By Pclass\")\n",
        "ax[0].set_ylabel(\"Population\")\n",
        "sns.countplot(\"Pclass\", hue = \"Survived\", data = train, ax = ax[1])\n",
        "ax[1].set_title(\"Pclass: Survived vs Dead\")\n",
        "plt.show()\n"
      ],
      "execution_count": null,
      "outputs": [
        {
          "output_type": "stream",
          "name": "stderr",
          "text": [
            "/usr/local/lib/python3.7/dist-packages/seaborn/_decorators.py:43: FutureWarning: Pass the following variable as a keyword arg: x. From version 0.12, the only valid positional argument will be `data`, and passing other arguments without an explicit keyword will result in an error or misinterpretation.\n",
            "  FutureWarning\n"
          ]
        },
        {
          "output_type": "display_data",
          "data": {
            "image/png": "[encoded data removed]",
            "text/plain": [
              "<Figure size 1296x576 with 2 Axes>"
            ]
          },
          "metadata": {
            "needs_background": "light"
          }
        }
      ]
    },
    {
      "cell_type": "code",
      "metadata": {
        "colab": {
          "base_uri": "https://localhost:8080/",
          "height": 279
        },
        "id": "nur-vI4Nduqt",
        "outputId": "90322838-8496-4e00-b2eb-4ddc252c92c9"
      },
      "source": [
        "sns.barplot(x = \"Sex\", y = \"Survived\", hue = \"Pclass\", data = train)\n",
        "plt.show()"
      ],
      "execution_count": null,
      "outputs": [
        {
          "output_type": "display_data",
          "data": {
            "image/png": "[encoded data removed]",
            "text/plain": [
              "<Figure size 432x288 with 1 Axes>"
            ]
          },
          "metadata": {
            "needs_background": "light"
          }
        }
      ]
    },
    {
      "cell_type": "code",
      "metadata": {
        "colab": {
          "base_uri": "https://localhost:8080/"
        },
        "id": "0LSXgGgxdyGk",
        "outputId": "3f043e22-77e4-475d-b3d3-cdca3661286a"
      },
      "source": [
        "def get_title(data_frame):\n",
        "    # Get names from data frame\n",
        "    name_data = data_frame[\"Name\"]\n",
        "    \n",
        "    # Obtain titles\n",
        "    data_frame[\"Title\"] = [name.split(\", \", 1)[1].split(\".\", 1)[0] for name in name_data]\n",
        "    \n",
        "    # Find all titles\n",
        "    titles = []\n",
        "    for title in data_frame[\"Title\"]:\n",
        "        if title not in titles:\n",
        "            titles.append(title)        \n",
        "    \n",
        "    return data_frame, titles\n",
        "\n",
        "train, titles = get_title(train)\n",
        "print(titles)"
      ],
      "execution_count": null,
      "outputs": [
        {
          "output_type": "stream",
          "name": "stdout",
          "text": [
            "['Mr', 'Mrs', 'Miss', 'Master', 'Don', 'Rev', 'Dr', 'Mme', 'Ms', 'Major', 'Lady', 'Sir', 'Mlle', 'Col', 'Capt', 'the Countess', 'Jonkheer']\n"
          ]
        }
      ]
    },
    {
      "cell_type": "code",
      "metadata": {
        "colab": {
          "base_uri": "https://localhost:8080/",
          "height": 103
        },
        "id": "W74-0KrNd34U",
        "outputId": "ca667faf-94b6-4f0e-88d6-ef2ffd4e58e7"
      },
      "source": [
        "pd.crosstab(train[\"Title\"], train[\"Sex\"]).T.style.background_gradient(cmap = \"summer_r\")"
      ],
      "execution_count": null,
      "outputs": [
        {
          "output_type": "execute_result",
          "data": {
            "text/html": [
              "<style  type=\"text/css\" >\n",
              "#T_254928f6_1e11_11ec_a683_0242ac1c0002row0_col0,#T_254928f6_1e11_11ec_a683_0242ac1c0002row0_col1,#T_254928f6_1e11_11ec_a683_0242ac1c0002row0_col2,#T_254928f6_1e11_11ec_a683_0242ac1c0002row0_col3,#T_254928f6_1e11_11ec_a683_0242ac1c0002row0_col4,#T_254928f6_1e11_11ec_a683_0242ac1c0002row0_col6,#T_254928f6_1e11_11ec_a683_0242ac1c0002row0_col7,#T_254928f6_1e11_11ec_a683_0242ac1c0002row0_col11,#T_254928f6_1e11_11ec_a683_0242ac1c0002row0_col14,#T_254928f6_1e11_11ec_a683_0242ac1c0002row0_col15,#T_254928f6_1e11_11ec_a683_0242ac1c0002row1_col5,#T_254928f6_1e11_11ec_a683_0242ac1c0002row1_col8,#T_254928f6_1e11_11ec_a683_0242ac1c0002row1_col9,#T_254928f6_1e11_11ec_a683_0242ac1c0002row1_col10,#T_254928f6_1e11_11ec_a683_0242ac1c0002row1_col12,#T_254928f6_1e11_11ec_a683_0242ac1c0002row1_col13,#T_254928f6_1e11_11ec_a683_0242ac1c0002row1_col16{\n",
              "            background-color:  #ffff66;\n",
              "            color:  #000000;\n",
              "        }#T_254928f6_1e11_11ec_a683_0242ac1c0002row0_col5,#T_254928f6_1e11_11ec_a683_0242ac1c0002row0_col8,#T_254928f6_1e11_11ec_a683_0242ac1c0002row0_col9,#T_254928f6_1e11_11ec_a683_0242ac1c0002row0_col10,#T_254928f6_1e11_11ec_a683_0242ac1c0002row0_col12,#T_254928f6_1e11_11ec_a683_0242ac1c0002row0_col13,#T_254928f6_1e11_11ec_a683_0242ac1c0002row0_col16,#T_254928f6_1e11_11ec_a683_0242ac1c0002row1_col0,#T_254928f6_1e11_11ec_a683_0242ac1c0002row1_col1,#T_254928f6_1e11_11ec_a683_0242ac1c0002row1_col2,#T_254928f6_1e11_11ec_a683_0242ac1c0002row1_col3,#T_254928f6_1e11_11ec_a683_0242ac1c0002row1_col4,#T_254928f6_1e11_11ec_a683_0242ac1c0002row1_col6,#T_254928f6_1e11_11ec_a683_0242ac1c0002row1_col7,#T_254928f6_1e11_11ec_a683_0242ac1c0002row1_col11,#T_254928f6_1e11_11ec_a683_0242ac1c0002row1_col14,#T_254928f6_1e11_11ec_a683_0242ac1c0002row1_col15{\n",
              "            background-color:  #008066;\n",
              "            color:  #f1f1f1;\n",
              "        }</style><table id=\"T_254928f6_1e11_11ec_a683_0242ac1c0002\" ><thead>    <tr>        <th class=\"index_name level0\" >Title</th>        <th class=\"col_heading level0 col0\" >Capt</th>        <th class=\"col_heading level0 col1\" >Col</th>        <th class=\"col_heading level0 col2\" >Don</th>        <th class=\"col_heading level0 col3\" >Dr</th>        <th class=\"col_heading level0 col4\" >Jonkheer</th>        <th class=\"col_heading level0 col5\" >Lady</th>        <th class=\"col_heading level0 col6\" >Major</th>        <th class=\"col_heading level0 col7\" >Master</th>        <th class=\"col_heading level0 col8\" >Miss</th>        <th class=\"col_heading level0 col9\" >Mlle</th>        <th class=\"col_heading level0 col10\" >Mme</th>        <th class=\"col_heading level0 col11\" >Mr</th>        <th class=\"col_heading level0 col12\" >Mrs</th>        <th class=\"col_heading level0 col13\" >Ms</th>        <th class=\"col_heading level0 col14\" >Rev</th>        <th class=\"col_heading level0 col15\" >Sir</th>        <th class=\"col_heading level0 col16\" >the Countess</th>    </tr>    <tr>        <th class=\"index_name level0\" >Sex</th>        <th class=\"blank\" ></th>        <th class=\"blank\" ></th>        <th class=\"blank\" ></th>        <th class=\"blank\" ></th>        <th class=\"blank\" ></th>        <th class=\"blank\" ></th>        <th class=\"blank\" ></th>        <th class=\"blank\" ></th>        <th class=\"blank\" ></th>        <th class=\"blank\" ></th>        <th class=\"blank\" ></th>        <th class=\"blank\" ></th>        <th class=\"blank\" ></th>        <th class=\"blank\" ></th>        <th class=\"blank\" ></th>        <th class=\"blank\" ></th>        <th class=\"blank\" ></th>    </tr></thead><tbody>\n",
              "                <tr>\n",
              "                        <th id=\"T_254928f6_1e11_11ec_a683_0242ac1c0002level0_row0\" class=\"row_heading level0 row0\" >female</th>\n",
              "                        <td id=\"T_254928f6_1e11_11ec_a683_0242ac1c0002row0_col0\" class=\"data row0 col0\" >0</td>\n",
              "                        <td id=\"T_254928f6_1e11_11ec_a683_0242ac1c0002row0_col1\" class=\"data row0 col1\" >0</td>\n",
              "                        <td id=\"T_254928f6_1e11_11ec_a683_0242ac1c0002row0_col2\" class=\"data row0 col2\" >0</td>\n",
              "                        <td id=\"T_254928f6_1e11_11ec_a683_0242ac1c0002row0_col3\" class=\"data row0 col3\" >1</td>\n",
              "                        <td id=\"T_254928f6_1e11_11ec_a683_0242ac1c0002row0_col4\" class=\"data row0 col4\" >0</td>\n",
              "                        <td id=\"T_254928f6_1e11_11ec_a683_0242ac1c0002row0_col5\" class=\"data row0 col5\" >1</td>\n",
              "                        <td id=\"T_254928f6_1e11_11ec_a683_0242ac1c0002row0_col6\" class=\"data row0 col6\" >0</td>\n",
              "                        <td id=\"T_254928f6_1e11_11ec_a683_0242ac1c0002row0_col7\" class=\"data row0 col7\" >0</td>\n",
              "                        <td id=\"T_254928f6_1e11_11ec_a683_0242ac1c0002row0_col8\" class=\"data row0 col8\" >182</td>\n",
              "                        <td id=\"T_254928f6_1e11_11ec_a683_0242ac1c0002row0_col9\" class=\"data row0 col9\" >2</td>\n",
              "                        <td id=\"T_254928f6_1e11_11ec_a683_0242ac1c0002row0_col10\" class=\"data row0 col10\" >1</td>\n",
              "                        <td id=\"T_254928f6_1e11_11ec_a683_0242ac1c0002row0_col11\" class=\"data row0 col11\" >0</td>\n",
              "                        <td id=\"T_254928f6_1e11_11ec_a683_0242ac1c0002row0_col12\" class=\"data row0 col12\" >125</td>\n",
              "                        <td id=\"T_254928f6_1e11_11ec_a683_0242ac1c0002row0_col13\" class=\"data row0 col13\" >1</td>\n",
              "                        <td id=\"T_254928f6_1e11_11ec_a683_0242ac1c0002row0_col14\" class=\"data row0 col14\" >0</td>\n",
              "                        <td id=\"T_254928f6_1e11_11ec_a683_0242ac1c0002row0_col15\" class=\"data row0 col15\" >0</td>\n",
              "                        <td id=\"T_254928f6_1e11_11ec_a683_0242ac1c0002row0_col16\" class=\"data row0 col16\" >1</td>\n",
              "            </tr>\n",
              "            <tr>\n",
              "                        <th id=\"T_254928f6_1e11_11ec_a683_0242ac1c0002level0_row1\" class=\"row_heading level0 row1\" >male</th>\n",
              "                        <td id=\"T_254928f6_1e11_11ec_a683_0242ac1c0002row1_col0\" class=\"data row1 col0\" >1</td>\n",
              "                        <td id=\"T_254928f6_1e11_11ec_a683_0242ac1c0002row1_col1\" class=\"data row1 col1\" >2</td>\n",
              "                        <td id=\"T_254928f6_1e11_11ec_a683_0242ac1c0002row1_col2\" class=\"data row1 col2\" >1</td>\n",
              "                        <td id=\"T_254928f6_1e11_11ec_a683_0242ac1c0002row1_col3\" class=\"data row1 col3\" >6</td>\n",
              "                        <td id=\"T_254928f6_1e11_11ec_a683_0242ac1c0002row1_col4\" class=\"data row1 col4\" >1</td>\n",
              "                        <td id=\"T_254928f6_1e11_11ec_a683_0242ac1c0002row1_col5\" class=\"data row1 col5\" >0</td>\n",
              "                        <td id=\"T_254928f6_1e11_11ec_a683_0242ac1c0002row1_col6\" class=\"data row1 col6\" >2</td>\n",
              "                        <td id=\"T_254928f6_1e11_11ec_a683_0242ac1c0002row1_col7\" class=\"data row1 col7\" >40</td>\n",
              "                        <td id=\"T_254928f6_1e11_11ec_a683_0242ac1c0002row1_col8\" class=\"data row1 col8\" >0</td>\n",
              "                        <td id=\"T_254928f6_1e11_11ec_a683_0242ac1c0002row1_col9\" class=\"data row1 col9\" >0</td>\n",
              "                        <td id=\"T_254928f6_1e11_11ec_a683_0242ac1c0002row1_col10\" class=\"data row1 col10\" >0</td>\n",
              "                        <td id=\"T_254928f6_1e11_11ec_a683_0242ac1c0002row1_col11\" class=\"data row1 col11\" >517</td>\n",
              "                        <td id=\"T_254928f6_1e11_11ec_a683_0242ac1c0002row1_col12\" class=\"data row1 col12\" >0</td>\n",
              "                        <td id=\"T_254928f6_1e11_11ec_a683_0242ac1c0002row1_col13\" class=\"data row1 col13\" >0</td>\n",
              "                        <td id=\"T_254928f6_1e11_11ec_a683_0242ac1c0002row1_col14\" class=\"data row1 col14\" >6</td>\n",
              "                        <td id=\"T_254928f6_1e11_11ec_a683_0242ac1c0002row1_col15\" class=\"data row1 col15\" >1</td>\n",
              "                        <td id=\"T_254928f6_1e11_11ec_a683_0242ac1c0002row1_col16\" class=\"data row1 col16\" >0</td>\n",
              "            </tr>\n",
              "    </tbody></table>"
            ],
            "text/plain": [
              "<pandas.io.formats.style.Styler at 0x7f501d3f30d0>"
            ]
          },
          "metadata": {},
          "execution_count": 15
        }
      ]
    },
    {
      "cell_type": "code",
      "metadata": {
        "colab": {
          "base_uri": "https://localhost:8080/"
        },
        "id": "envD0g9td6VM",
        "outputId": "2fc6db47-23fc-4fdf-8dc4-d9cd29803731"
      },
      "source": [
        "train.groupby(\"Title\")[\"Age\"].mean()"
      ],
      "execution_count": null,
      "outputs": [
        {
          "output_type": "execute_result",
          "data": {
            "text/plain": [
              "Title\n",
              "0    32.739609\n",
              "1    21.860000\n",
              "2    35.981818\n",
              "3     4.574167\n",
              "4    45.888889\n",
              "Name: Age, dtype: float64"
            ]
          },
          "metadata": {},
          "execution_count": 18
        }
      ]
    },
    {
      "cell_type": "code",
      "metadata": {
        "colab": {
          "base_uri": "https://localhost:8080/",
          "height": 333
        },
        "id": "3xGq0oK6d8cU",
        "outputId": "661b238b-c70b-4e91-d71a-274207a43760"
      },
      "source": [
        "sns.countplot(\"Title\", hue = \"Survived\", data = train)\n",
        "plt.show()"
      ],
      "execution_count": null,
      "outputs": [
        {
          "output_type": "stream",
          "name": "stderr",
          "text": [
            "/usr/local/lib/python3.7/dist-packages/seaborn/_decorators.py:43: FutureWarning: Pass the following variable as a keyword arg: x. From version 0.12, the only valid positional argument will be `data`, and passing other arguments without an explicit keyword will result in an error or misinterpretation.\n",
            "  FutureWarning\n"
          ]
        },
        {
          "output_type": "display_data",
          "data": {
            "image/png": "[encoded data removed]",
            "text/plain": [
              "<Figure size 432x288 with 1 Axes>"
            ]
          },
          "metadata": {
            "needs_background": "light"
          }
        }
      ]
    },
    {
      "cell_type": "code",
      "metadata": {
        "colab": {
          "base_uri": "https://localhost:8080/",
          "height": 292
        },
        "id": "oyqc3GG5eK37",
        "outputId": "6b6e67ec-3c87-4868-8e8e-f1659128be8c"
      },
      "source": [
        "pd.crosstab([train[\"Title\"], train[\"Survived\"]], train[\"Pclass\"], margins = True).style.background_gradient(cmap = \"summer_r\")\n"
      ],
      "execution_count": null,
      "outputs": [
        {
          "output_type": "execute_result",
          "data": {
            "text/html": [
              "<style  type=\"text/css\" >\n",
              "#T_56940a66_1e11_11ec_a683_0242ac1c0002row0_col0{\n",
              "            background-color:  #a7d366;\n",
              "            color:  #000000;\n",
              "        }#T_56940a66_1e11_11ec_a683_0242ac1c0002row0_col1{\n",
              "            background-color:  #89c466;\n",
              "            color:  #000000;\n",
              "        }#T_56940a66_1e11_11ec_a683_0242ac1c0002row0_col2{\n",
              "            background-color:  #6cb666;\n",
              "            color:  #000000;\n",
              "        }#T_56940a66_1e11_11ec_a683_0242ac1c0002row0_col3{\n",
              "            background-color:  #80c066;\n",
              "            color:  #000000;\n",
              "        }#T_56940a66_1e11_11ec_a683_0242ac1c0002row1_col0{\n",
              "            background-color:  #cee666;\n",
              "            color:  #000000;\n",
              "        }#T_56940a66_1e11_11ec_a683_0242ac1c0002row1_col1{\n",
              "            background-color:  #f4fa66;\n",
              "            color:  #000000;\n",
              "        }#T_56940a66_1e11_11ec_a683_0242ac1c0002row1_col2{\n",
              "            background-color:  #edf666;\n",
              "            color:  #000000;\n",
              "        }#T_56940a66_1e11_11ec_a683_0242ac1c0002row1_col3{\n",
              "            background-color:  #e7f366;\n",
              "            color:  #000000;\n",
              "        }#T_56940a66_1e11_11ec_a683_0242ac1c0002row2_col0,#T_56940a66_1e11_11ec_a683_0242ac1c0002row2_col1,#T_56940a66_1e11_11ec_a683_0242ac1c0002row8_col0,#T_56940a66_1e11_11ec_a683_0242ac1c0002row8_col3{\n",
              "            background-color:  #fdfe66;\n",
              "            color:  #000000;\n",
              "        }#T_56940a66_1e11_11ec_a683_0242ac1c0002row2_col2,#T_56940a66_1e11_11ec_a683_0242ac1c0002row3_col2{\n",
              "            background-color:  #e5f266;\n",
              "            color:  #000000;\n",
              "        }#T_56940a66_1e11_11ec_a683_0242ac1c0002row2_col3{\n",
              "            background-color:  #f0f866;\n",
              "            color:  #000000;\n",
              "        }#T_56940a66_1e11_11ec_a683_0242ac1c0002row3_col0{\n",
              "            background-color:  #c8e366;\n",
              "            color:  #000000;\n",
              "        }#T_56940a66_1e11_11ec_a683_0242ac1c0002row3_col1{\n",
              "            background-color:  #d2e866;\n",
              "            color:  #000000;\n",
              "        }#T_56940a66_1e11_11ec_a683_0242ac1c0002row3_col3{\n",
              "            background-color:  #daec66;\n",
              "            color:  #000000;\n",
              "        }#T_56940a66_1e11_11ec_a683_0242ac1c0002row4_col0,#T_56940a66_1e11_11ec_a683_0242ac1c0002row9_col0{\n",
              "            background-color:  #fefe66;\n",
              "            color:  #000000;\n",
              "        }#T_56940a66_1e11_11ec_a683_0242ac1c0002row4_col1,#T_56940a66_1e11_11ec_a683_0242ac1c0002row7_col2{\n",
              "            background-color:  #fafc66;\n",
              "            color:  #000000;\n",
              "        }#T_56940a66_1e11_11ec_a683_0242ac1c0002row4_col2,#T_56940a66_1e11_11ec_a683_0242ac1c0002row5_col2{\n",
              "            background-color:  #f5fa66;\n",
              "            color:  #000000;\n",
              "        }#T_56940a66_1e11_11ec_a683_0242ac1c0002row4_col3{\n",
              "            background-color:  #f8fc66;\n",
              "            color:  #000000;\n",
              "        }#T_56940a66_1e11_11ec_a683_0242ac1c0002row5_col0{\n",
              "            background-color:  #cde666;\n",
              "            color:  #000000;\n",
              "        }#T_56940a66_1e11_11ec_a683_0242ac1c0002row5_col1{\n",
              "            background-color:  #cce666;\n",
              "            color:  #000000;\n",
              "        }#T_56940a66_1e11_11ec_a683_0242ac1c0002row5_col3{\n",
              "            background-color:  #e3f166;\n",
              "            color:  #000000;\n",
              "        }#T_56940a66_1e11_11ec_a683_0242ac1c0002row6_col0,#T_56940a66_1e11_11ec_a683_0242ac1c0002row6_col1,#T_56940a66_1e11_11ec_a683_0242ac1c0002row8_col2,#T_56940a66_1e11_11ec_a683_0242ac1c0002row9_col1,#T_56940a66_1e11_11ec_a683_0242ac1c0002row9_col2,#T_56940a66_1e11_11ec_a683_0242ac1c0002row9_col3{\n",
              "            background-color:  #ffff66;\n",
              "            color:  #000000;\n",
              "        }#T_56940a66_1e11_11ec_a683_0242ac1c0002row6_col2,#T_56940a66_1e11_11ec_a683_0242ac1c0002row8_col1{\n",
              "            background-color:  #f7fb66;\n",
              "            color:  #000000;\n",
              "        }#T_56940a66_1e11_11ec_a683_0242ac1c0002row6_col3{\n",
              "            background-color:  #fbfd66;\n",
              "            color:  #000000;\n",
              "        }#T_56940a66_1e11_11ec_a683_0242ac1c0002row7_col0{\n",
              "            background-color:  #fcfe66;\n",
              "            color:  #000000;\n",
              "        }#T_56940a66_1e11_11ec_a683_0242ac1c0002row7_col1{\n",
              "            background-color:  #f3f966;\n",
              "            color:  #000000;\n",
              "        }#T_56940a66_1e11_11ec_a683_0242ac1c0002row7_col3{\n",
              "            background-color:  #f9fc66;\n",
              "            color:  #000000;\n",
              "        }#T_56940a66_1e11_11ec_a683_0242ac1c0002row10_col0,#T_56940a66_1e11_11ec_a683_0242ac1c0002row10_col1,#T_56940a66_1e11_11ec_a683_0242ac1c0002row10_col2,#T_56940a66_1e11_11ec_a683_0242ac1c0002row10_col3{\n",
              "            background-color:  #008066;\n",
              "            color:  #f1f1f1;\n",
              "        }</style><table id=\"T_56940a66_1e11_11ec_a683_0242ac1c0002\" ><thead>    <tr>        <th class=\"blank\" ></th>        <th class=\"index_name level0\" >Pclass</th>        <th class=\"col_heading level0 col0\" >1</th>        <th class=\"col_heading level0 col1\" >2</th>        <th class=\"col_heading level0 col2\" >3</th>        <th class=\"col_heading level0 col3\" >All</th>    </tr>    <tr>        <th class=\"index_name level0\" >Title</th>        <th class=\"index_name level1\" >Survived</th>        <th class=\"blank\" ></th>        <th class=\"blank\" ></th>        <th class=\"blank\" ></th>        <th class=\"blank\" ></th>    </tr></thead><tbody>\n",
              "                <tr>\n",
              "                        <th id=\"T_56940a66_1e11_11ec_a683_0242ac1c0002level0_row0\" class=\"row_heading level0 row0\" rowspan=2>0</th>\n",
              "                        <th id=\"T_56940a66_1e11_11ec_a683_0242ac1c0002level1_row0\" class=\"row_heading level1 row0\" >0</th>\n",
              "                        <td id=\"T_56940a66_1e11_11ec_a683_0242ac1c0002row0_col0\" class=\"data row0 col0\" >75</td>\n",
              "                        <td id=\"T_56940a66_1e11_11ec_a683_0242ac1c0002row0_col1\" class=\"data row0 col1\" >85</td>\n",
              "                        <td id=\"T_56940a66_1e11_11ec_a683_0242ac1c0002row0_col2\" class=\"data row0 col2\" >283</td>\n",
              "                        <td id=\"T_56940a66_1e11_11ec_a683_0242ac1c0002row0_col3\" class=\"data row0 col3\" >443</td>\n",
              "            </tr>\n",
              "            <tr>\n",
              "                                <th id=\"T_56940a66_1e11_11ec_a683_0242ac1c0002level1_row1\" class=\"row_heading level1 row1\" >1</th>\n",
              "                        <td id=\"T_56940a66_1e11_11ec_a683_0242ac1c0002row1_col0\" class=\"data row1 col0\" >42</td>\n",
              "                        <td id=\"T_56940a66_1e11_11ec_a683_0242ac1c0002row1_col1\" class=\"data row1 col1\" >8</td>\n",
              "                        <td id=\"T_56940a66_1e11_11ec_a683_0242ac1c0002row1_col2\" class=\"data row1 col2\" >36</td>\n",
              "                        <td id=\"T_56940a66_1e11_11ec_a683_0242ac1c0002row1_col3\" class=\"data row1 col3\" >86</td>\n",
              "            </tr>\n",
              "            <tr>\n",
              "                        <th id=\"T_56940a66_1e11_11ec_a683_0242ac1c0002level0_row2\" class=\"row_heading level0 row2\" rowspan=2>1</th>\n",
              "                        <th id=\"T_56940a66_1e11_11ec_a683_0242ac1c0002level1_row2\" class=\"row_heading level1 row2\" >0</th>\n",
              "                        <td id=\"T_56940a66_1e11_11ec_a683_0242ac1c0002row2_col0\" class=\"data row2 col0\" >2</td>\n",
              "                        <td id=\"T_56940a66_1e11_11ec_a683_0242ac1c0002row2_col1\" class=\"data row2 col1\" >2</td>\n",
              "                        <td id=\"T_56940a66_1e11_11ec_a683_0242ac1c0002row2_col2\" class=\"data row2 col2\" >51</td>\n",
              "                        <td id=\"T_56940a66_1e11_11ec_a683_0242ac1c0002row2_col3\" class=\"data row2 col3\" >55</td>\n",
              "            </tr>\n",
              "            <tr>\n",
              "                                <th id=\"T_56940a66_1e11_11ec_a683_0242ac1c0002level1_row3\" class=\"row_heading level1 row3\" >1</th>\n",
              "                        <td id=\"T_56940a66_1e11_11ec_a683_0242ac1c0002row3_col0\" class=\"data row3 col0\" >47</td>\n",
              "                        <td id=\"T_56940a66_1e11_11ec_a683_0242ac1c0002row3_col1\" class=\"data row3 col1\" >33</td>\n",
              "                        <td id=\"T_56940a66_1e11_11ec_a683_0242ac1c0002row3_col2\" class=\"data row3 col2\" >51</td>\n",
              "                        <td id=\"T_56940a66_1e11_11ec_a683_0242ac1c0002row3_col3\" class=\"data row3 col3\" >131</td>\n",
              "            </tr>\n",
              "            <tr>\n",
              "                        <th id=\"T_56940a66_1e11_11ec_a683_0242ac1c0002level0_row4\" class=\"row_heading level0 row4\" rowspan=2>2</th>\n",
              "                        <th id=\"T_56940a66_1e11_11ec_a683_0242ac1c0002level1_row4\" class=\"row_heading level1 row4\" >0</th>\n",
              "                        <td id=\"T_56940a66_1e11_11ec_a683_0242ac1c0002row4_col0\" class=\"data row4 col0\" >1</td>\n",
              "                        <td id=\"T_56940a66_1e11_11ec_a683_0242ac1c0002row4_col1\" class=\"data row4 col1\" >4</td>\n",
              "                        <td id=\"T_56940a66_1e11_11ec_a683_0242ac1c0002row4_col2\" class=\"data row4 col2\" >21</td>\n",
              "                        <td id=\"T_56940a66_1e11_11ec_a683_0242ac1c0002row4_col3\" class=\"data row4 col3\" >26</td>\n",
              "            </tr>\n",
              "            <tr>\n",
              "                                <th id=\"T_56940a66_1e11_11ec_a683_0242ac1c0002level1_row5\" class=\"row_heading level1 row5\" >1</th>\n",
              "                        <td id=\"T_56940a66_1e11_11ec_a683_0242ac1c0002row5_col0\" class=\"data row5 col0\" >43</td>\n",
              "                        <td id=\"T_56940a66_1e11_11ec_a683_0242ac1c0002row5_col1\" class=\"data row5 col1\" >37</td>\n",
              "                        <td id=\"T_56940a66_1e11_11ec_a683_0242ac1c0002row5_col2\" class=\"data row5 col2\" >21</td>\n",
              "                        <td id=\"T_56940a66_1e11_11ec_a683_0242ac1c0002row5_col3\" class=\"data row5 col3\" >101</td>\n",
              "            </tr>\n",
              "            <tr>\n",
              "                        <th id=\"T_56940a66_1e11_11ec_a683_0242ac1c0002level0_row6\" class=\"row_heading level0 row6\" rowspan=2>3</th>\n",
              "                        <th id=\"T_56940a66_1e11_11ec_a683_0242ac1c0002level1_row6\" class=\"row_heading level1 row6\" >0</th>\n",
              "                        <td id=\"T_56940a66_1e11_11ec_a683_0242ac1c0002row6_col0\" class=\"data row6 col0\" >0</td>\n",
              "                        <td id=\"T_56940a66_1e11_11ec_a683_0242ac1c0002row6_col1\" class=\"data row6 col1\" >0</td>\n",
              "                        <td id=\"T_56940a66_1e11_11ec_a683_0242ac1c0002row6_col2\" class=\"data row6 col2\" >17</td>\n",
              "                        <td id=\"T_56940a66_1e11_11ec_a683_0242ac1c0002row6_col3\" class=\"data row6 col3\" >17</td>\n",
              "            </tr>\n",
              "            <tr>\n",
              "                                <th id=\"T_56940a66_1e11_11ec_a683_0242ac1c0002level1_row7\" class=\"row_heading level1 row7\" >1</th>\n",
              "                        <td id=\"T_56940a66_1e11_11ec_a683_0242ac1c0002row7_col0\" class=\"data row7 col0\" >3</td>\n",
              "                        <td id=\"T_56940a66_1e11_11ec_a683_0242ac1c0002row7_col1\" class=\"data row7 col1\" >9</td>\n",
              "                        <td id=\"T_56940a66_1e11_11ec_a683_0242ac1c0002row7_col2\" class=\"data row7 col2\" >11</td>\n",
              "                        <td id=\"T_56940a66_1e11_11ec_a683_0242ac1c0002row7_col3\" class=\"data row7 col3\" >23</td>\n",
              "            </tr>\n",
              "            <tr>\n",
              "                        <th id=\"T_56940a66_1e11_11ec_a683_0242ac1c0002level0_row8\" class=\"row_heading level0 row8\" rowspan=2>4</th>\n",
              "                        <th id=\"T_56940a66_1e11_11ec_a683_0242ac1c0002level1_row8\" class=\"row_heading level1 row8\" >0</th>\n",
              "                        <td id=\"T_56940a66_1e11_11ec_a683_0242ac1c0002row8_col0\" class=\"data row8 col0\" >2</td>\n",
              "                        <td id=\"T_56940a66_1e11_11ec_a683_0242ac1c0002row8_col1\" class=\"data row8 col1\" >6</td>\n",
              "                        <td id=\"T_56940a66_1e11_11ec_a683_0242ac1c0002row8_col2\" class=\"data row8 col2\" >0</td>\n",
              "                        <td id=\"T_56940a66_1e11_11ec_a683_0242ac1c0002row8_col3\" class=\"data row8 col3\" >8</td>\n",
              "            </tr>\n",
              "            <tr>\n",
              "                                <th id=\"T_56940a66_1e11_11ec_a683_0242ac1c0002level1_row9\" class=\"row_heading level1 row9\" >1</th>\n",
              "                        <td id=\"T_56940a66_1e11_11ec_a683_0242ac1c0002row9_col0\" class=\"data row9 col0\" >1</td>\n",
              "                        <td id=\"T_56940a66_1e11_11ec_a683_0242ac1c0002row9_col1\" class=\"data row9 col1\" >0</td>\n",
              "                        <td id=\"T_56940a66_1e11_11ec_a683_0242ac1c0002row9_col2\" class=\"data row9 col2\" >0</td>\n",
              "                        <td id=\"T_56940a66_1e11_11ec_a683_0242ac1c0002row9_col3\" class=\"data row9 col3\" >1</td>\n",
              "            </tr>\n",
              "            <tr>\n",
              "                        <th id=\"T_56940a66_1e11_11ec_a683_0242ac1c0002level0_row10\" class=\"row_heading level0 row10\" >All</th>\n",
              "                        <th id=\"T_56940a66_1e11_11ec_a683_0242ac1c0002level1_row10\" class=\"row_heading level1 row10\" ></th>\n",
              "                        <td id=\"T_56940a66_1e11_11ec_a683_0242ac1c0002row10_col0\" class=\"data row10 col0\" >216</td>\n",
              "                        <td id=\"T_56940a66_1e11_11ec_a683_0242ac1c0002row10_col1\" class=\"data row10 col1\" >184</td>\n",
              "                        <td id=\"T_56940a66_1e11_11ec_a683_0242ac1c0002row10_col2\" class=\"data row10 col2\" >491</td>\n",
              "                        <td id=\"T_56940a66_1e11_11ec_a683_0242ac1c0002row10_col3\" class=\"data row10 col3\" >891</td>\n",
              "            </tr>\n",
              "    </tbody></table>"
            ],
            "text/plain": [
              "<pandas.io.formats.style.Styler at 0x7f501d2f1a90>"
            ]
          },
          "metadata": {},
          "execution_count": 21
        }
      ]
    },
    {
      "cell_type": "code",
      "metadata": {
        "colab": {
          "base_uri": "https://localhost:8080/",
          "height": 333
        },
        "id": "td3dzhuueMub",
        "outputId": "45d65d74-9d0c-4831-b888-e3c904893e8f"
      },
      "source": [
        "sns.boxplot(train[\"Fare\"])\n",
        "plt.show()"
      ],
      "execution_count": null,
      "outputs": [
        {
          "output_type": "stream",
          "name": "stderr",
          "text": [
            "/usr/local/lib/python3.7/dist-packages/seaborn/_decorators.py:43: FutureWarning: Pass the following variable as a keyword arg: x. From version 0.12, the only valid positional argument will be `data`, and passing other arguments without an explicit keyword will result in an error or misinterpretation.\n",
            "  FutureWarning\n"
          ]
        },
        {
          "output_type": "display_data",
          "data": {
            "image/png": "[encoded data removed]",
            "text/plain": [
              "<Figure size 432x288 with 1 Axes>"
            ]
          },
          "metadata": {
            "needs_background": "light"
          }
        }
      ]
    },
    {
      "cell_type": "code",
      "metadata": {
        "colab": {
          "base_uri": "https://localhost:8080/",
          "height": 472
        },
        "id": "ezasQk9seQw7",
        "outputId": "0dbb6e70-37ff-404a-e488-83cbe471383f"
      },
      "source": [
        "fig, ax = plt.subplots(1, 3, figsize = (15, 5))\n",
        "sns.boxplot(train[train[\"Pclass\"] == 1][\"Fare\"], ax = ax[0])\n",
        "ax[0].set_title(\"Fares in Pclass 1\")\n",
        "sns.boxplot(train[train[\"Pclass\"] == 2][\"Fare\"], ax = ax[1])\n",
        "ax[1].set_title(\"Fares in Pclass 2\")\n",
        "sns.boxplot(train[train[\"Pclass\"] == 3][\"Fare\"], ax = ax[2])\n",
        "ax[2].set_title(\"Fares in Pclass 3\")\n",
        "plt.show()"
      ],
      "execution_count": null,
      "outputs": [
        {
          "output_type": "stream",
          "name": "stderr",
          "text": [
            "/usr/local/lib/python3.7/dist-packages/seaborn/_decorators.py:43: FutureWarning: Pass the following variable as a keyword arg: x. From version 0.12, the only valid positional argument will be `data`, and passing other arguments without an explicit keyword will result in an error or misinterpretation.\n",
            "  FutureWarning\n",
            "/usr/local/lib/python3.7/dist-packages/seaborn/_decorators.py:43: FutureWarning: Pass the following variable as a keyword arg: x. From version 0.12, the only valid positional argument will be `data`, and passing other arguments without an explicit keyword will result in an error or misinterpretation.\n",
            "  FutureWarning\n",
            "/usr/local/lib/python3.7/dist-packages/seaborn/_decorators.py:43: FutureWarning: Pass the following variable as a keyword arg: x. From version 0.12, the only valid positional argument will be `data`, and passing other arguments without an explicit keyword will result in an error or misinterpretation.\n",
            "  FutureWarning\n"
          ]
        },
        {
          "output_type": "display_data",
          "data": {
            "image/png": "[encoded data removed]",
            "text/plain": [
              "<Figure size 1080x360 with 3 Axes>"
            ]
          },
          "metadata": {
            "needs_background": "light"
          }
        }
      ]
    },
    {
      "cell_type": "code",
      "metadata": {
        "colab": {
          "base_uri": "https://localhost:8080/"
        },
        "id": "IKgAYWdjeS9z",
        "outputId": "d528a27f-63fc-41eb-dcb9-ebda53f9b13c"
      },
      "source": [
        "train.groupby(\"Pclass\")[\"Fare\"].mean()"
      ],
      "execution_count": null,
      "outputs": [
        {
          "output_type": "execute_result",
          "data": {
            "text/plain": [
              "Pclass\n",
              "1    84.154687\n",
              "2    20.662183\n",
              "3    13.675550\n",
              "Name: Fare, dtype: float64"
            ]
          },
          "metadata": {},
          "execution_count": 24
        }
      ]
    },
    {
      "cell_type": "code",
      "metadata": {
        "colab": {
          "base_uri": "https://localhost:8080/"
        },
        "id": "wETABY3oeWyU",
        "outputId": "045ba99a-87f6-4b6c-f990-54ee11115644"
      },
      "source": [
        "train.groupby(\"Pclass\")[\"Fare\"].median()"
      ],
      "execution_count": null,
      "outputs": [
        {
          "output_type": "execute_result",
          "data": {
            "text/plain": [
              "Pclass\n",
              "1    60.2875\n",
              "2    14.2500\n",
              "3     8.0500\n",
              "Name: Fare, dtype: float64"
            ]
          },
          "metadata": {},
          "execution_count": 25
        }
      ]
    },
    {
      "cell_type": "code",
      "metadata": {
        "id": "62JIbPmJeb8z"
      },
      "source": [],
      "execution_count": null,
      "outputs": []
    }
  ]
}